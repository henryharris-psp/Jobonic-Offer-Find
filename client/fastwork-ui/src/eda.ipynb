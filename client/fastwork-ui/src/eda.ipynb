{
 "cells": [
  {
   "cell_type": "code",
   "execution_count": 10,
   "metadata": {},
   "outputs": [
    {
     "name": "stdout",
     "output_type": "stream",
     "text": [
      "                   title    work_category employment_type  \\\n",
      "0      Software Engineer               IT       Full-time   \n",
      "1           Data Analyst        Analytics       Part-time   \n",
      "2       Graphic Designer           Design       Freelance   \n",
      "3   Marketing Specialist        Marketing       Full-time   \n",
      "4        Project Manager       Management        Contract   \n",
      "5         Content Writer          Writing       Part-time   \n",
      "6       Customer Support          Support       Full-time   \n",
      "7         UX/UI Designer           Design       Freelance   \n",
      "8          Sales Manager            Sales       Full-time   \n",
      "9          HR Specialist  Human Resources       Part-time   \n",
      "10         Web Developer               IT        Contract   \n",
      "11        Data Scientist        Analytics       Full-time   \n",
      "12            Translator         Language       Freelance   \n",
      "13        SEO Specialist        Marketing        Contract   \n",
      "14       Product Manager       Management       Full-time   \n",
      "\n",
      "                              description_1                     description_2  \\\n",
      "0               Design and develop software     Troubleshoot and debug issues   \n",
      "1                  Collect and analyze data      Generate and present reports   \n",
      "2                     Create visual content        Design marketing materials   \n",
      "3   Develop and execute marketing campaigns           Conduct market research   \n",
      "4                 Plan and oversee projects          Manage project timelines   \n",
      "5               Research and write articles        Edit and proofread content   \n",
      "6               Provide customer assistance           Resolve customer issues   \n",
      "7           Design user-friendly interfaces             Conduct user research   \n",
      "8                Lead and manage sales team          Develop sales strategies   \n",
      "9             Recruit and onboard employees         Maintain employee records   \n",
      "10            Develop and maintain websites  Fix bugs and improve performance   \n",
      "11                Analyze complex data sets           Build predictive models   \n",
      "12              Translate written documents   Proofread and edit translations   \n",
      "13                 Optimize website content          Conduct keyword research   \n",
      "14              Oversee product development     Coordinate with various teams   \n",
      "\n",
      "                                    description_3     examples_of_work  \\\n",
      "0         Collaborate with cross-functional teams          GitHub link   \n",
      "1   Use statistical tools for data interpretation            Portfolio   \n",
      "2                        Ensure brand consistency    Behance portfolio   \n",
      "3                        Optimize content for SEO    Campaign examples   \n",
      "4                    Coordinate with stakeholders        Project plans   \n",
      "5                        Optimize content for SEO      Writing samples   \n",
      "6                  Maintain customer satisfaction    Customer feedback   \n",
      "7                Create wireframes and prototypes     Design portfolio   \n",
      "8                           Achieve sales targets        Sales records   \n",
      "9               Develop and implement HR policies           HR reports   \n",
      "10      Collaborate with designers and developers          GitHub link   \n",
      "11           Communicate insights to stakeholders            Portfolio   \n",
      "12                      Ensure cultural relevance  Translation samples   \n",
      "13                Monitor and analyze SEO metrics          SEO reports   \n",
      "14                        Conduct market analysis     Product examples   \n",
      "\n",
      "   submission_deadline   budget language       location  days_left  \n",
      "0           2024-07-30  80000.0  English         Remote         34  \n",
      "1           2024-08-15  45000.0  English       New York         50  \n",
      "2           2024-07-10  30000.0  English         Remote         14  \n",
      "3           2024-09-01  60000.0  English  San Francisco         67  \n",
      "4           2024-07-20  90000.0  English        Chicago         24  \n",
      "5           2024-07-25  25000.0  English         Remote         29  \n",
      "6           2024-08-05  40000.0  English         Remote         40  \n",
      "7           2024-08-10  35000.0  English         Remote         45  \n",
      "8           2024-09-15  70000.0  English         Boston         81  \n",
      "9           2024-08-01  50000.0  English         Remote         36  \n",
      "10          2024-07-15  75000.0  English    Los Angeles         19  \n",
      "11          2024-08-20  95000.0  English  San Francisco         55  \n",
      "12          2024-07-18  20000.0  Spanish         Remote         22  \n",
      "13          2024-09-05  65000.0  English         Remote         71  \n",
      "14          2024-08-25  85000.0  English       New York         60  \n"
     ]
    },
    {
     "name": "stderr",
     "output_type": "stream",
     "text": [
      "C:\\Users\\emmyt\\AppData\\Local\\Temp\\ipykernel_20284\\4060109472.py:8: UserWarning: Parsing dates in %d/%m/%Y format when dayfirst=False (the default) was specified. Pass `dayfirst=True` or specify a format to silence this warning.\n",
      "  df['submission_deadline'] = pd.to_datetime(df['submission_deadline'])\n"
     ]
    },
    {
     "data": {
      "text/plain": [
       "title                          object\n",
       "work_category                  object\n",
       "employment_type                object\n",
       "description_1                  object\n",
       "description_2                  object\n",
       "description_3                  object\n",
       "examples_of_work               object\n",
       "submission_deadline    datetime64[ns]\n",
       "budget                        float64\n",
       "language                       object\n",
       "location                       object\n",
       "days_left                       int64\n",
       "dtype: object"
      ]
     },
     "execution_count": 10,
     "metadata": {},
     "output_type": "execute_result"
    }
   ],
   "source": [
    "import pandas as pd\n",
    "from datetime import datetime\n",
    "\n",
    "# Load data from CSV file\n",
    "df = pd.read_csv('sample_data.csv')\n",
    "\n",
    "# Convert submission_deadline to datetime\n",
    "df['submission_deadline'] = pd.to_datetime(df['submission_deadline'])\n",
    "\n",
    "# Calculate days left until the deadline\n",
    "df['days_left'] = (df['submission_deadline'] - datetime.now()).dt.days\n",
    "\n",
    "df['budget'] = df['budget'].str.replace('$', '').str.replace(',', '').astype(float)\n",
    "\n",
    "# Display the DataFrame with the new column\n",
    "print(df)\n",
    "\n",
    "# Save the updated DataFrame to a new CSV file\n",
    "df.to_csv('updated_sample_data.csv', index=False)\n",
    "\n",
    "df.dtypes"
   ]
  },
  {
   "cell_type": "code",
   "execution_count": 2,
   "metadata": {},
   "outputs": [
    {
     "name": "stderr",
     "output_type": "stream",
     "text": [
      "C:\\Users\\emmyt\\AppData\\Roaming\\Python\\Python312\\site-packages\\huggingface_hub\\file_download.py:1132: FutureWarning: `resume_download` is deprecated and will be removed in version 1.0.0. Downloads always resume when possible. If you want to force a new download, use `force_download=True`.\n",
      "  warnings.warn(\n"
     ]
    }
   ],
   "source": [
    "from sentence_transformers import SentenceTransformer, util\n",
    "import torch\n",
    "import pandas as pd\n",
    "df = pd.read_csv('updated_sample_data.csv')\n",
    "model = SentenceTransformer('sentence-transformers/all-MiniLM-L6-v2')\n",
    "#model.max_seq_length = 200\n",
    "text_columns = ['title', 'work_category', 'employment_type', 'description_1', 'description_2', 'description_3']\n",
    "df['combined_text'] = df[text_columns].apply(lambda row: ' '.join(row.values.astype(str)), axis=1)\n",
    "embeddings2 = model.encode(df['combined_text'].tolist(), convert_to_tensor=True)\n",
    "# save tensors as a file\n",
    "torch.save(embeddings2, 'updated_sample_data.pt')"
   ]
  }
 ],
 "metadata": {
  "kernelspec": {
   "display_name": "Python 3",
   "language": "python",
   "name": "python3"
  },
  "language_info": {
   "codemirror_mode": {
    "name": "ipython",
    "version": 3
   },
   "file_extension": ".py",
   "mimetype": "text/x-python",
   "name": "python",
   "nbconvert_exporter": "python",
   "pygments_lexer": "ipython3",
   "version": "3.12.3"
  }
 },
 "nbformat": 4,
 "nbformat_minor": 2
}
